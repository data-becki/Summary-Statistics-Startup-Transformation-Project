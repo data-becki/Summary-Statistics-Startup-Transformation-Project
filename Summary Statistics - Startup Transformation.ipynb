{
 "cells": [
  {
   "cell_type": "markdown",
   "id": "faea8b29",
   "metadata": {},
   "source": [
    "# Startup Transformation"
   ]
  },
  {
   "cell_type": "markdown",
   "id": "f2ad5615",
   "metadata": {},
   "source": [
    "In this project, you’ll work as a data analyst for a tech startup that is looking to improve its operations after a global pandemic has taken the world by storm.\n",
    "\n",
    "You will apply data transformation techniques to make better sense of the company’s data and help answer important questions such as:\n",
    "\n",
    "-    Is the company in good financial health?\n",
    "-    Does the company need to let go of any employees?\n",
    "-    Should the company allow employees to work from home permanently?\n",
    "\n",
    "Let’s get started!"
   ]
  },
  {
   "cell_type": "code",
   "execution_count": 1,
   "id": "d8d38131",
   "metadata": {},
   "outputs": [],
   "source": [
    "from sklearn import preprocessing\n",
    "import matplotlib.pyplot as plt\n",
    "import pandas as pd\n",
    "import seaborn as sns\n",
    "import numpy as np"
   ]
  },
  {
   "cell_type": "markdown",
   "id": "d40c3a35",
   "metadata": {},
   "source": [
    "## Analyzing Revenue and Expenses"
   ]
  },
  {
   "cell_type": "markdown",
   "id": "e213490b",
   "metadata": {},
   "source": [
    "1. The management team of the company you work for is concerned about the status of the company after a global pandemic.\n",
    "\n",
    "    The CFO (Chief Financial Officer) asks you to perform some data analysis on the past six months of the company’s financial data, which has been loaded in the variable `financial_data`.\n",
    "\n",
    "    First, examine the first few rows of the data using `print()` and `.head()`."
   ]
  },
  {
   "cell_type": "code",
   "execution_count": 2,
   "id": "b98b7a55",
   "metadata": {},
   "outputs": [],
   "source": [
    "# load in financial data\n",
    "financial_data = pd.read_csv('financial_data.csv')"
   ]
  },
  {
   "cell_type": "code",
   "execution_count": 3,
   "id": "44f60b83",
   "metadata": {},
   "outputs": [
    {
     "data": {
      "text/html": [
       "<div>\n",
       "<style scoped>\n",
       "    .dataframe tbody tr th:only-of-type {\n",
       "        vertical-align: middle;\n",
       "    }\n",
       "\n",
       "    .dataframe tbody tr th {\n",
       "        vertical-align: top;\n",
       "    }\n",
       "\n",
       "    .dataframe thead th {\n",
       "        text-align: right;\n",
       "    }\n",
       "</style>\n",
       "<table border=\"1\" class=\"dataframe\">\n",
       "  <thead>\n",
       "    <tr style=\"text-align: right;\">\n",
       "      <th></th>\n",
       "      <th>Month</th>\n",
       "      <th>Revenue</th>\n",
       "      <th>Expenses</th>\n",
       "    </tr>\n",
       "  </thead>\n",
       "  <tbody>\n",
       "    <tr>\n",
       "      <th>0</th>\n",
       "      <td>1</td>\n",
       "      <td>1420000</td>\n",
       "      <td>510000</td>\n",
       "    </tr>\n",
       "    <tr>\n",
       "      <th>1</th>\n",
       "      <td>2</td>\n",
       "      <td>1200000</td>\n",
       "      <td>532000</td>\n",
       "    </tr>\n",
       "    <tr>\n",
       "      <th>2</th>\n",
       "      <td>3</td>\n",
       "      <td>1050000</td>\n",
       "      <td>551000</td>\n",
       "    </tr>\n",
       "    <tr>\n",
       "      <th>3</th>\n",
       "      <td>4</td>\n",
       "      <td>920000</td>\n",
       "      <td>612000</td>\n",
       "    </tr>\n",
       "    <tr>\n",
       "      <th>4</th>\n",
       "      <td>5</td>\n",
       "      <td>807000</td>\n",
       "      <td>628000</td>\n",
       "    </tr>\n",
       "    <tr>\n",
       "      <th>5</th>\n",
       "      <td>6</td>\n",
       "      <td>720000</td>\n",
       "      <td>644000</td>\n",
       "    </tr>\n",
       "  </tbody>\n",
       "</table>\n",
       "</div>"
      ],
      "text/plain": [
       "   Month  Revenue  Expenses\n",
       "0      1  1420000    510000\n",
       "1      2  1200000    532000\n",
       "2      3  1050000    551000\n",
       "3      4   920000    612000\n",
       "4      5   807000    628000\n",
       "5      6   720000    644000"
      ]
     },
     "execution_count": 3,
     "metadata": {},
     "output_type": "execute_result"
    }
   ],
   "source": [
    "financial_data"
   ]
  },
  {
   "cell_type": "code",
   "execution_count": 4,
   "id": "fbdb6d55",
   "metadata": {},
   "outputs": [
    {
     "name": "stdout",
     "output_type": "stream",
     "text": [
      "<class 'pandas.core.frame.DataFrame'>\n",
      "RangeIndex: 6 entries, 0 to 5\n",
      "Data columns (total 3 columns):\n",
      " #   Column    Non-Null Count  Dtype\n",
      "---  ------    --------------  -----\n",
      " 0   Month     6 non-null      int64\n",
      " 1   Revenue   6 non-null      int64\n",
      " 2   Expenses  6 non-null      int64\n",
      "dtypes: int64(3)\n",
      "memory usage: 272.0 bytes\n"
     ]
    }
   ],
   "source": [
    "financial_data.info()"
   ]
  },
  {
   "cell_type": "markdown",
   "id": "a1305257",
   "metadata": {},
   "source": [
    "2. Notice that `financial_data` has three columns – `Month`, `Revenue`, and `Expenses`.\n",
    "\n",
    "    Store each column in three separate variables called `month`, `revenue`, and `expenses`."
   ]
  },
  {
   "cell_type": "code",
   "execution_count": 5,
   "id": "3c63250f",
   "metadata": {},
   "outputs": [],
   "source": [
    "month = financial_data['Month']\n",
    "revenue = financial_data['Revenue']\n",
    "expenses = financial_data['Expenses']"
   ]
  },
  {
   "cell_type": "markdown",
   "id": "3932f8e9",
   "metadata": {},
   "source": [
    "3. Next, use the following code to create a plot of revenue over the past six months:\n",
    "\n",
    "        plt.plot(month,revenue)\n",
    "        plt.show()"
   ]
  },
  {
   "cell_type": "markdown",
   "id": "f7552f2d",
   "metadata": {},
   "source": [
    "4. On the right, you should now see a plot of revenue over time. You can label and format the figure using the following functions:\n",
    "\n",
    "        plt.xlabel('Month')\n",
    "        plt.ylabel('Amount ($)')\n",
    "        plt.title('Revenue')\n",
    "\n",
    "    These should be added before plt.show(). Add the labels to your plot.\n"
   ]
  },
  {
   "cell_type": "code",
   "execution_count": 6,
   "id": "4deddb82",
   "metadata": {},
   "outputs": [
    {
     "data": {
      "image/png": "[encoded data removed]",
      "text/plain": [
       "<Figure size 432x288 with 1 Axes>"
      ]
     },
     "metadata": {
      "needs_background": "light"
     },
     "output_type": "display_data"
    }
   ],
   "source": [
    "plt.plot(month,revenue)\n",
    "plt.xlabel('Month')\n",
    "plt.ylabel('Amount ($)')\n",
    "plt.title('Revenue')\n",
    "plt.show()"
   ]
  },
  {
   "cell_type": "markdown",
   "id": "8254a002",
   "metadata": {},
   "source": [
    "5. Repeat steps 3 and 4 for monthly expenses. In other words, create a second plot of monthly expenses over the past 6 months. Note that you’ll need to use the function `plot.clf()` prior to creating this new plot. Otherwise, it will be plotted on-top of the revenue plot. The code should look something like this:\n",
    "\n",
    "        plt.clf()\n",
    "        #insert code to create plot here\n",
    "        #add labels to the plot here\n",
    "        plt.show()\n",
    "\n",
    "    How are monthly expenses changing over time?"
   ]
  },
  {
   "cell_type": "code",
   "execution_count": 7,
   "id": "f1c21051",
   "metadata": {},
   "outputs": [
    {
     "data": {
      "image/png": "[encoded data removed]",
      "text/plain": [
       "<Figure size 432x288 with 1 Axes>"
      ]
     },
     "metadata": {
      "needs_background": "light"
     },
     "output_type": "display_data"
    }
   ],
   "source": [
    "# plt.clf()\n",
    "plt.plot(month,expenses)\n",
    "plt.xlabel('Month')\n",
    "plt.ylabel('Amount ($)')\n",
    "plt.title('Expenses')\n",
    "plt.show()"
   ]
  },
  {
   "cell_type": "markdown",
   "id": "1d40f966",
   "metadata": {},
   "source": [
    "*Answer: Generally, expenses are increasing. In month 6, expenses are at \\\\$640k, and revenue is slightly above \\\\$700k.*"
   ]
  },
  {
   "cell_type": "markdown",
   "id": "4a91c7f4",
   "metadata": {},
   "source": [
    "6. As shown, revenue seems to be quickly decreasing while expenses are increasing. If the current trend continues, expenses will soon surpass revenues, putting the company at risk.\n",
    "\n",
    "    After you show this chart to the management team, they are alarmed. They conclude that expenses must be cut immediately and give you a new file to analyze called `expenses.csv`.\n",
    "\n",
    "    Use `pandas` to read in `expenses.csv` and store it in a variable called `expense_overview`.\n",
    "\n",
    "    Print the first seven rows of the data."
   ]
  },
  {
   "cell_type": "code",
   "execution_count": 8,
   "id": "e62d71f3",
   "metadata": {},
   "outputs": [
    {
     "data": {
      "text/html": [
       "<div>\n",
       "<style scoped>\n",
       "    .dataframe tbody tr th:only-of-type {\n",
       "        vertical-align: middle;\n",
       "    }\n",
       "\n",
       "    .dataframe tbody tr th {\n",
       "        vertical-align: top;\n",
       "    }\n",
       "\n",
       "    .dataframe thead th {\n",
       "        text-align: right;\n",
       "    }\n",
       "</style>\n",
       "<table border=\"1\" class=\"dataframe\">\n",
       "  <thead>\n",
       "    <tr style=\"text-align: right;\">\n",
       "      <th></th>\n",
       "      <th>Expense</th>\n",
       "      <th>Proportion</th>\n",
       "    </tr>\n",
       "  </thead>\n",
       "  <tbody>\n",
       "    <tr>\n",
       "      <th>0</th>\n",
       "      <td>Salaries</td>\n",
       "      <td>0.62</td>\n",
       "    </tr>\n",
       "    <tr>\n",
       "      <th>1</th>\n",
       "      <td>Advertising</td>\n",
       "      <td>0.15</td>\n",
       "    </tr>\n",
       "    <tr>\n",
       "      <th>2</th>\n",
       "      <td>Office Rent</td>\n",
       "      <td>0.15</td>\n",
       "    </tr>\n",
       "    <tr>\n",
       "      <th>3</th>\n",
       "      <td>Equipment</td>\n",
       "      <td>0.03</td>\n",
       "    </tr>\n",
       "    <tr>\n",
       "      <th>4</th>\n",
       "      <td>Utilities</td>\n",
       "      <td>0.03</td>\n",
       "    </tr>\n",
       "    <tr>\n",
       "      <th>5</th>\n",
       "      <td>Supples</td>\n",
       "      <td>0.01</td>\n",
       "    </tr>\n",
       "    <tr>\n",
       "      <th>6</th>\n",
       "      <td>Food</td>\n",
       "      <td>0.01</td>\n",
       "    </tr>\n",
       "  </tbody>\n",
       "</table>\n",
       "</div>"
      ],
      "text/plain": [
       "       Expense  Proportion\n",
       "0     Salaries        0.62\n",
       "1  Advertising        0.15\n",
       "2  Office Rent        0.15\n",
       "3    Equipment        0.03\n",
       "4    Utilities        0.03\n",
       "5      Supples        0.01\n",
       "6         Food        0.01"
      ]
     },
     "execution_count": 8,
     "metadata": {},
     "output_type": "execute_result"
    }
   ],
   "source": [
    "expense_overview = pd.read_csv('expenses.csv')\n",
    "expense_overview"
   ]
  },
  {
   "cell_type": "markdown",
   "id": "5dd8701b",
   "metadata": {},
   "source": [
    "## Pie Chart and Collapsing Categories"
   ]
  },
  {
   "cell_type": "markdown",
   "id": "7cfe7c65",
   "metadata": {},
   "source": [
    "7. Notice that there are two columns:\n",
    "\n",
    "   - `Expense`: indicates the expense category\n",
    "   - `Proportion`: indicates how much of the overall expenses a specific category takes up\n",
    "\n",
    "   Store the `Expense` column in a variable called `expense_categories` and the `Proportion` column in a variable called `proportions`."
   ]
  },
  {
   "cell_type": "code",
   "execution_count": 9,
   "id": "fdd64906",
   "metadata": {},
   "outputs": [],
   "source": [
    "expense_categories = expense_overview['Expense']\n",
    "proportions = expense_overview['Proportion']"
   ]
  },
  {
   "cell_type": "markdown",
   "id": "e31281dc",
   "metadata": {},
   "source": [
    "8. Next, we want to create a pie chart of the different expense categories. Use `plt.clf()` again to clear the previous plot, then create a pie chart using the `plt.pie()` method, passing in two arguments:\n",
    "\n",
    "    - `proportions`\n",
    "    - `labels = expense_categories`\n",
    "\n",
    "   Give your pie chart a title using `plt.title()`, then use `plt.show()` at the end to show the plot.\n"
   ]
  },
  {
   "cell_type": "markdown",
   "id": "abc06f4a",
   "metadata": {},
   "source": [
    "9. Notice that the pie chart currently looks deformed.\n",
    "\n",
    "    Above `plt.show()`, add in the following two lines of code to set the axis and adjust the spacing:\n",
    "\n",
    "        plt.axis('Equal')\n",
    "        plt.tight_layout()\n",
    "\n",
    "    Take a moment to look at the pie chart. Which expense categories make up most of the data, and which ones aren’t so significant?"
   ]
  },
  {
   "cell_type": "code",
   "execution_count": 10,
   "id": "be707684",
   "metadata": {},
   "outputs": [
    {
     "data": {
      "image/png": "[encoded data removed]",
      "text/plain": [
       "<Figure size 432x288 with 1 Axes>"
      ]
     },
     "metadata": {},
     "output_type": "display_data"
    }
   ],
   "source": [
    "plt.pie(proportions, labels = expense_categories, normalize=True)\n",
    "plt.title('Expenses')\n",
    "plt.axis('Equal')\n",
    "plt.tight_layout()\n",
    "plt.show()"
   ]
  },
  {
   "cell_type": "markdown",
   "id": "788a7aa3",
   "metadata": {},
   "source": [
    "*Answer: Salaries, Advertising, and Office Rent make up most of the data, Food and Supplies the least.*"
   ]
  },
  {
   "cell_type": "markdown",
   "id": "9d974272",
   "metadata": {},
   "source": [
    "10. It seems that `Salaries`, `Advertising`, and` Office Rent` make up most of the expenses, while the rest of the categories make up a small percentage.\n",
    "\n",
    "    Before you hand this pie chart back to management, you would like to update the pie chart so that all categories making up less than 5% of the overall expenses (`Equipment`, `Utilities`, `Supplies`, and `Food`) are collapsed into an “Other” category.\n",
    "\n",
    "    Update the pie chart accordingly."
   ]
  },
  {
   "cell_type": "code",
   "execution_count": 11,
   "id": "a31b8c68",
   "metadata": {},
   "outputs": [
    {
     "data": {
      "image/png": "[encoded data removed]",
      "text/plain": [
       "<Figure size 432x288 with 1 Axes>"
      ]
     },
     "metadata": {},
     "output_type": "display_data"
    }
   ],
   "source": [
    "expense_categories = ['Salaries', 'Advertising', 'Office Rent', 'Other']\n",
    "proportions = [0.62, 0.15, 0.15, 0.08]\n",
    "plt.clf()\n",
    "plt.pie(proportions, labels = expense_categories, normalize=True)\n",
    "plt.title('Expense Categories')\n",
    "plt.axis('Equal')\n",
    "plt.tight_layout()\n",
    "plt.show()"
   ]
  },
  {
   "cell_type": "markdown",
   "id": "c8835575",
   "metadata": {},
   "source": [
    "11. You should now see four categories in your updated pie chart:\n",
    "\n",
    "    - `Salaries`\n",
    "    - `Advertising`\n",
    "    - `Office Rent`\n",
    "    - `Other`\n",
    "\n",
    "    This simplified pie chart helps the management team see a big picture view of the company’s expenses without getting distracted by noisy data.\n",
    "\n",
    "    If the company wants to cut costs in a big way, which category do you think they should focus on? Put your answer in a string variable called `expense_cut`."
   ]
  },
  {
   "cell_type": "code",
   "execution_count": 12,
   "id": "3e12d73a",
   "metadata": {},
   "outputs": [],
   "source": [
    "expense_cut = 'Salaries'"
   ]
  },
  {
   "cell_type": "markdown",
   "id": "e8061e5a",
   "metadata": {},
   "source": [
    "## Employee Productivity"
   ]
  },
  {
   "cell_type": "markdown",
   "id": "4819881c",
   "metadata": {},
   "source": [
    "12. Salaries make up 62% of expenses. The management team determines that to cut costs in a meaningful way, they must let go of some employees.\n",
    "\n",
    "    Each employee at the company is assigned a productivity score based on their work. The management would like to keep the most highly productive employees and let go of the least productive employees.\n",
    "\n",
    "    First, use `pandas` to load in `employees.csv` and store it in a variable called `employees`.\n",
    "\n",
    "    Print the first few rows of the data."
   ]
  },
  {
   "cell_type": "code",
   "execution_count": 13,
   "id": "ce9341b2",
   "metadata": {},
   "outputs": [
    {
     "data": {
      "text/html": [
       "<div>\n",
       "<style scoped>\n",
       "    .dataframe tbody tr th:only-of-type {\n",
       "        vertical-align: middle;\n",
       "    }\n",
       "\n",
       "    .dataframe tbody tr th {\n",
       "        vertical-align: top;\n",
       "    }\n",
       "\n",
       "    .dataframe thead th {\n",
       "        text-align: right;\n",
       "    }\n",
       "</style>\n",
       "<table border=\"1\" class=\"dataframe\">\n",
       "  <thead>\n",
       "    <tr style=\"text-align: right;\">\n",
       "      <th></th>\n",
       "      <th>Name</th>\n",
       "      <th>Salary</th>\n",
       "      <th>Productivity</th>\n",
       "      <th>Commute Time</th>\n",
       "    </tr>\n",
       "  </thead>\n",
       "  <tbody>\n",
       "    <tr>\n",
       "      <th>0</th>\n",
       "      <td>Mason Pender</td>\n",
       "      <td>87902</td>\n",
       "      <td>29.91</td>\n",
       "      <td>16.79</td>\n",
       "    </tr>\n",
       "    <tr>\n",
       "      <th>1</th>\n",
       "      <td>Mia Rew</td>\n",
       "      <td>95672</td>\n",
       "      <td>49.91</td>\n",
       "      <td>44.48</td>\n",
       "    </tr>\n",
       "    <tr>\n",
       "      <th>2</th>\n",
       "      <td>Jalisa Kroenke</td>\n",
       "      <td>177864</td>\n",
       "      <td>78.00</td>\n",
       "      <td>19.40</td>\n",
       "    </tr>\n",
       "    <tr>\n",
       "      <th>3</th>\n",
       "      <td>Krystal Homeyer</td>\n",
       "      <td>186643</td>\n",
       "      <td>24.36</td>\n",
       "      <td>42.06</td>\n",
       "    </tr>\n",
       "    <tr>\n",
       "      <th>4</th>\n",
       "      <td>Kiana Wishart</td>\n",
       "      <td>167148</td>\n",
       "      <td>4.08</td>\n",
       "      <td>25.58</td>\n",
       "    </tr>\n",
       "  </tbody>\n",
       "</table>\n",
       "</div>"
      ],
      "text/plain": [
       "                Name  Salary  Productivity  Commute Time\n",
       "0     Mason Pender     87902         29.91         16.79\n",
       "1          Mia Rew     95672         49.91         44.48\n",
       "2   Jalisa Kroenke    177864         78.00         19.40\n",
       "3  Krystal Homeyer    186643         24.36         42.06\n",
       "4    Kiana Wishart    167148          4.08         25.58"
      ]
     },
     "execution_count": 13,
     "metadata": {},
     "output_type": "execute_result"
    }
   ],
   "source": [
    "employees = pd.read_csv('employees.csv')\n",
    "employees.head()"
   ]
  },
  {
   "cell_type": "markdown",
   "id": "497ac6b1",
   "metadata": {},
   "source": [
    "13. Notice that there is a `Productivity` column, which indicates the productivity score assigned to that employee.\n",
    "\n",
    "    Sort the `employees` data frame (in ascending order) by the `Productivity` column and store the result in a variable called `sorted_productivity`.\n",
    "\n",
    "    To sort a data frame, you can do the following:\n",
    "\n",
    "        sorted_data = dataframe_name.sort_values(by=['Column Name'])\n",
    "\n",
    "    Print `sorted_productivity`."
   ]
  },
  {
   "cell_type": "code",
   "execution_count": 14,
   "id": "4f66fb1a",
   "metadata": {},
   "outputs": [
    {
     "data": {
      "text/html": [
       "<div>\n",
       "<style scoped>\n",
       "    .dataframe tbody tr th:only-of-type {\n",
       "        vertical-align: middle;\n",
       "    }\n",
       "\n",
       "    .dataframe tbody tr th {\n",
       "        vertical-align: top;\n",
       "    }\n",
       "\n",
       "    .dataframe thead th {\n",
       "        text-align: right;\n",
       "    }\n",
       "</style>\n",
       "<table border=\"1\" class=\"dataframe\">\n",
       "  <thead>\n",
       "    <tr style=\"text-align: right;\">\n",
       "      <th></th>\n",
       "      <th>Name</th>\n",
       "      <th>Salary</th>\n",
       "      <th>Productivity</th>\n",
       "      <th>Commute Time</th>\n",
       "    </tr>\n",
       "  </thead>\n",
       "  <tbody>\n",
       "    <tr>\n",
       "      <th>259</th>\n",
       "      <td>Wilber Rye</td>\n",
       "      <td>111647</td>\n",
       "      <td>0.06</td>\n",
       "      <td>49.42</td>\n",
       "    </tr>\n",
       "    <tr>\n",
       "      <th>92</th>\n",
       "      <td>Fredric Gandee</td>\n",
       "      <td>154469</td>\n",
       "      <td>0.24</td>\n",
       "      <td>22.48</td>\n",
       "    </tr>\n",
       "    <tr>\n",
       "      <th>252</th>\n",
       "      <td>Johnson Fordham</td>\n",
       "      <td>168684</td>\n",
       "      <td>1.46</td>\n",
       "      <td>22.39</td>\n",
       "    </tr>\n",
       "    <tr>\n",
       "      <th>178</th>\n",
       "      <td>Lilia Lemoine</td>\n",
       "      <td>167579</td>\n",
       "      <td>1.67</td>\n",
       "      <td>27.36</td>\n",
       "    </tr>\n",
       "    <tr>\n",
       "      <th>162</th>\n",
       "      <td>Hilma Laughton</td>\n",
       "      <td>85506</td>\n",
       "      <td>1.79</td>\n",
       "      <td>36.41</td>\n",
       "    </tr>\n",
       "    <tr>\n",
       "      <th>...</th>\n",
       "      <td>...</td>\n",
       "      <td>...</td>\n",
       "      <td>...</td>\n",
       "      <td>...</td>\n",
       "    </tr>\n",
       "    <tr>\n",
       "      <th>164</th>\n",
       "      <td>Miki Hartle</td>\n",
       "      <td>50856</td>\n",
       "      <td>99.54</td>\n",
       "      <td>31.39</td>\n",
       "    </tr>\n",
       "    <tr>\n",
       "      <th>88</th>\n",
       "      <td>Darell Nau</td>\n",
       "      <td>30530</td>\n",
       "      <td>99.63</td>\n",
       "      <td>44.25</td>\n",
       "    </tr>\n",
       "    <tr>\n",
       "      <th>23</th>\n",
       "      <td>Joaquina Neece</td>\n",
       "      <td>95562</td>\n",
       "      <td>99.66</td>\n",
       "      <td>48.65</td>\n",
       "    </tr>\n",
       "    <tr>\n",
       "      <th>202</th>\n",
       "      <td>Janae Officer</td>\n",
       "      <td>110139</td>\n",
       "      <td>99.69</td>\n",
       "      <td>15.45</td>\n",
       "    </tr>\n",
       "    <tr>\n",
       "      <th>6</th>\n",
       "      <td>Jacinta Dunford</td>\n",
       "      <td>130968</td>\n",
       "      <td>99.98</td>\n",
       "      <td>44.53</td>\n",
       "    </tr>\n",
       "  </tbody>\n",
       "</table>\n",
       "<p>300 rows × 4 columns</p>\n",
       "</div>"
      ],
      "text/plain": [
       "                  Name  Salary  Productivity  Commute Time\n",
       "259       Wilber Rye    111647          0.06         49.42\n",
       "92    Fredric Gandee    154469          0.24         22.48\n",
       "252  Johnson Fordham    168684          1.46         22.39\n",
       "178    Lilia Lemoine    167579          1.67         27.36\n",
       "162   Hilma Laughton     85506          1.79         36.41\n",
       "..                 ...     ...           ...           ...\n",
       "164      Miki Hartle     50856         99.54         31.39\n",
       "88        Darell Nau     30530         99.63         44.25\n",
       "23    Joaquina Neece     95562         99.66         48.65\n",
       "202    Janae Officer    110139         99.69         15.45\n",
       "6    Jacinta Dunford    130968         99.98         44.53\n",
       "\n",
       "[300 rows x 4 columns]"
      ]
     },
     "execution_count": 14,
     "metadata": {},
     "output_type": "execute_result"
    }
   ],
   "source": [
    "sorted_productivity = employees.sort_values(by=['Productivity'])\n",
    "sorted_productivity"
   ]
  },
  {
   "cell_type": "markdown",
   "id": "0190e809",
   "metadata": {},
   "source": [
    "14. You should now see the employees with the lowest productivity scores at the top of the data frame.\n",
    "\n",
    "    The company decides to let go of the 100 least productive employees.\n",
    "\n",
    "    Store the first 100 rows of `sorted_productivity` in a new variable called `employees_cut` and print out the result.\n",
    "\n",
    "    Unfortunately, this batch of employees won’t be so lucky."
   ]
  },
  {
   "cell_type": "code",
   "execution_count": 15,
   "id": "d4cdabc0",
   "metadata": {},
   "outputs": [
    {
     "data": {
      "text/html": [
       "<div>\n",
       "<style scoped>\n",
       "    .dataframe tbody tr th:only-of-type {\n",
       "        vertical-align: middle;\n",
       "    }\n",
       "\n",
       "    .dataframe tbody tr th {\n",
       "        vertical-align: top;\n",
       "    }\n",
       "\n",
       "    .dataframe thead th {\n",
       "        text-align: right;\n",
       "    }\n",
       "</style>\n",
       "<table border=\"1\" class=\"dataframe\">\n",
       "  <thead>\n",
       "    <tr style=\"text-align: right;\">\n",
       "      <th></th>\n",
       "      <th>Name</th>\n",
       "      <th>Salary</th>\n",
       "      <th>Productivity</th>\n",
       "      <th>Commute Time</th>\n",
       "    </tr>\n",
       "  </thead>\n",
       "  <tbody>\n",
       "    <tr>\n",
       "      <th>259</th>\n",
       "      <td>Wilber Rye</td>\n",
       "      <td>111647</td>\n",
       "      <td>0.06</td>\n",
       "      <td>49.42</td>\n",
       "    </tr>\n",
       "    <tr>\n",
       "      <th>92</th>\n",
       "      <td>Fredric Gandee</td>\n",
       "      <td>154469</td>\n",
       "      <td>0.24</td>\n",
       "      <td>22.48</td>\n",
       "    </tr>\n",
       "    <tr>\n",
       "      <th>252</th>\n",
       "      <td>Johnson Fordham</td>\n",
       "      <td>168684</td>\n",
       "      <td>1.46</td>\n",
       "      <td>22.39</td>\n",
       "    </tr>\n",
       "    <tr>\n",
       "      <th>178</th>\n",
       "      <td>Lilia Lemoine</td>\n",
       "      <td>167579</td>\n",
       "      <td>1.67</td>\n",
       "      <td>27.36</td>\n",
       "    </tr>\n",
       "    <tr>\n",
       "      <th>162</th>\n",
       "      <td>Hilma Laughton</td>\n",
       "      <td>85506</td>\n",
       "      <td>1.79</td>\n",
       "      <td>36.41</td>\n",
       "    </tr>\n",
       "    <tr>\n",
       "      <th>...</th>\n",
       "      <td>...</td>\n",
       "      <td>...</td>\n",
       "      <td>...</td>\n",
       "      <td>...</td>\n",
       "    </tr>\n",
       "    <tr>\n",
       "      <th>43</th>\n",
       "      <td>Bernardo Klingenberg</td>\n",
       "      <td>55464</td>\n",
       "      <td>34.52</td>\n",
       "      <td>32.27</td>\n",
       "    </tr>\n",
       "    <tr>\n",
       "      <th>186</th>\n",
       "      <td>Ashleigh Istre</td>\n",
       "      <td>178627</td>\n",
       "      <td>34.70</td>\n",
       "      <td>38.67</td>\n",
       "    </tr>\n",
       "    <tr>\n",
       "      <th>288</th>\n",
       "      <td>Penni Kimbrough</td>\n",
       "      <td>142680</td>\n",
       "      <td>35.21</td>\n",
       "      <td>49.64</td>\n",
       "    </tr>\n",
       "    <tr>\n",
       "      <th>269</th>\n",
       "      <td>Margot Mackenzie</td>\n",
       "      <td>114302</td>\n",
       "      <td>35.79</td>\n",
       "      <td>19.87</td>\n",
       "    </tr>\n",
       "    <tr>\n",
       "      <th>218</th>\n",
       "      <td>Quinn Frampton</td>\n",
       "      <td>44000</td>\n",
       "      <td>36.36</td>\n",
       "      <td>34.12</td>\n",
       "    </tr>\n",
       "  </tbody>\n",
       "</table>\n",
       "<p>100 rows × 4 columns</p>\n",
       "</div>"
      ],
      "text/plain": [
       "                       Name  Salary  Productivity  Commute Time\n",
       "259            Wilber Rye    111647          0.06         49.42\n",
       "92         Fredric Gandee    154469          0.24         22.48\n",
       "252       Johnson Fordham    168684          1.46         22.39\n",
       "178         Lilia Lemoine    167579          1.67         27.36\n",
       "162        Hilma Laughton     85506          1.79         36.41\n",
       "..                      ...     ...           ...           ...\n",
       "43   Bernardo Klingenberg     55464         34.52         32.27\n",
       "186        Ashleigh Istre    178627         34.70         38.67\n",
       "288       Penni Kimbrough    142680         35.21         49.64\n",
       "269      Margot Mackenzie    114302         35.79         19.87\n",
       "218        Quinn Frampton     44000         36.36         34.12\n",
       "\n",
       "[100 rows x 4 columns]"
      ]
     },
     "execution_count": 15,
     "metadata": {},
     "output_type": "execute_result"
    }
   ],
   "source": [
    "employees_cut = sorted_productivity[:100]\n",
    "employees_cut"
   ]
  },
  {
   "cell_type": "markdown",
   "id": "c7a36433",
   "metadata": {},
   "source": [
    "15. Your colleague Sarah, a data scientist at the company, would like to explore the relationship between `Income` and `Productivity` more in depth, but she points out that these two features are on vastly different scales.\n",
    "\n",
    "    For example, productivity is a feature that ranges from 0-100, but income is measured in the thousands of dollars.\n",
    "\n",
    "    Moreover, there are outliers in the data that add an additional layer of complexity.\n",
    "\n",
    "    She asks you for advice on how she should transform the data. Should she perform normalization, standardization, log transformation, or something else?\n",
    "\n",
    "    Put your answer in a string in a variable called `transformation`."
   ]
  },
  {
   "cell_type": "code",
   "execution_count": 16,
   "id": "d0aba22c",
   "metadata": {},
   "outputs": [],
   "source": [
    "transformation = 'standardization'"
   ]
  },
  {
   "cell_type": "markdown",
   "id": "e763ef51",
   "metadata": {},
   "source": [
    "## Commute Times and Log Transformation"
   ]
  },
  {
   "cell_type": "markdown",
   "id": "7ac3e1db",
   "metadata": {},
   "source": [
    "16. The COO (Chief Operating Officer) is debating whether to allow employees to continue to work from home post-pandemic.\n",
    "\n",
    "    He first wants to take a look at roughly how long the average commute time is for employees at the company. He asks for your help to analyze this data.\n",
    "\n",
    "    The `employees` data frame has a column called `Commute Time` that stores the commute time (in minutes) for each employee.\n",
    "\n",
    "    Create a variable called `commute_times` that stores the `Commute Time` column."
   ]
  },
  {
   "cell_type": "code",
   "execution_count": 17,
   "id": "c47fa821",
   "metadata": {},
   "outputs": [
    {
     "data": {
      "text/plain": [
       "0    16.79\n",
       "1    44.48\n",
       "2    19.40\n",
       "3    42.06\n",
       "4    25.58\n",
       "Name: Commute Time, dtype: float64"
      ]
     },
     "execution_count": 17,
     "metadata": {},
     "output_type": "execute_result"
    }
   ],
   "source": [
    "commute_times = employees['Commute Time']\n",
    "commute_times.head()"
   ]
  },
  {
   "cell_type": "markdown",
   "id": "bd0980bb",
   "metadata": {},
   "source": [
    "17. Let’s do some quick analysis on the commute times of employees.\n",
    "\n",
    "    Use `print()` and `.describe()` to print out descriptive statistics for `commute_times`.\n",
    "\n",
    "    What are the average and median commute times? Might it be worth it for the company to explore allowing remote work indefinitely so employees can save time during the day?"
   ]
  },
  {
   "cell_type": "code",
   "execution_count": 18,
   "id": "dfb357cc",
   "metadata": {},
   "outputs": [
    {
     "data": {
      "text/plain": [
       "count    300.000000\n",
       "mean      33.441700\n",
       "std       16.128369\n",
       "min        3.220000\n",
       "25%       21.667500\n",
       "50%       31.060000\n",
       "75%       42.190000\n",
       "max      101.780000\n",
       "Name: Commute Time, dtype: float64"
      ]
     },
     "execution_count": 18,
     "metadata": {},
     "output_type": "execute_result"
    }
   ],
   "source": [
    "commute_times.describe()"
   ]
  },
  {
   "cell_type": "markdown",
   "id": "681456c4",
   "metadata": {},
   "source": [
    "18. Let’s explore the shape of the commute time data using a histogram.\n",
    "\n",
    "    First, use `plt.clf()` to clear the previous plots. Then use `plt.hist()` to plot the histogram of `commute_times`. Finally, use `plt.show()` to show the plot. Feel free to add labels above `plt.show()` if you would like to practice!\n",
    "\n",
    "    What do you notice about the shape of the data? Is it symmetric, left skewed, or right skewed?"
   ]
  },
  {
   "cell_type": "code",
   "execution_count": 19,
   "id": "151e6028",
   "metadata": {},
   "outputs": [
    {
     "data": {
      "image/png": "[encoded data removed]",
      "text/plain": [
       "<Figure size 432x288 with 1 Axes>"
      ]
     },
     "metadata": {
      "needs_background": "light"
     },
     "output_type": "display_data"
    }
   ],
   "source": [
    "plt.hist(commute_times)\n",
    "plt.show()"
   ]
  },
  {
   "cell_type": "markdown",
   "id": "124560f0",
   "metadata": {},
   "source": [
    "19. The data seems to be skewed to the right. To make it more symmetrical, we might try applying a log transformation.\n",
    "\n",
    "    Right under the `commute_times` variable, create a variable called `commute_times_log` that stores a log-transformed version of `commute_times`.\n",
    "\n",
    "    To apply log-transform, you can use `numpy`’s `log()` function."
   ]
  },
  {
   "cell_type": "code",
   "execution_count": 20,
   "id": "2dc73569",
   "metadata": {},
   "outputs": [],
   "source": [
    "commute_times_log = np.log(commute_times)"
   ]
  },
  {
   "cell_type": "markdown",
   "id": "b33d7327",
   "metadata": {},
   "source": [
    "20. Replace the histogram for `commute_times` with one for `commute_times_log`.\n",
    "\n",
    "    Notice how the shape of the data changes from being right skewed to a more symmetrical (and even slightly left-skewed) in shape. After applying log transformation, the transformed data is more “normal” than before."
   ]
  },
  {
   "cell_type": "code",
   "execution_count": 21,
   "id": "97f90648",
   "metadata": {},
   "outputs": [
    {
     "data": {
      "image/png": "[encoded data removed]",
      "text/plain": [
       "<Figure size 432x288 with 1 Axes>"
      ]
     },
     "metadata": {
      "needs_background": "light"
     },
     "output_type": "display_data"
    }
   ],
   "source": [
    "plt.hist(commute_times_log)\n",
    "plt.show()"
   ]
  },
  {
   "cell_type": "markdown",
   "id": "160524a6",
   "metadata": {},
   "source": [
    "## Extra"
   ]
  },
  {
   "cell_type": "markdown",
   "id": "95b48ca3",
   "metadata": {},
   "source": [
    "21. Congratulations! In this project, you performed data analysis to help a management team answer important questions about the status of the company during a difficult time.\n",
    "\n",
    "    You did this by analyzing data sets and applying common data transformation techniques. These are important skills to have as a data analyst.\n",
    "\n",
    "    If you’d like extra practice with data transformations, here are some suggestions to extend this project:\n",
    "\n",
    "    - Apply standardization to the employees data using `StandardScaler()` from `sklearn`. Refer to this article (<a href='https://www.codecademy.com/content-items/4c13a3c614d59b1cdb78293ac2b1d656?latest_draft_applied=true&preview=true'>Data Centering and Scaling on codecademy</a>) if you need help.\n",
    "    - Explore the income and productivity features in more detail. Can you find a relationship between productivity and income?\n",
    "\n",
    "Happy coding!\n"
   ]
  },
  {
   "cell_type": "code",
   "execution_count": 26,
   "id": "6cdbec3b",
   "metadata": {},
   "outputs": [
    {
     "data": {
      "text/plain": [
       "Index(['Name', 'Salary', 'Productivity', 'Commute Time'], dtype='object')"
      ]
     },
     "execution_count": 26,
     "metadata": {},
     "output_type": "execute_result"
    }
   ],
   "source": [
    "employees.columns"
   ]
  },
  {
   "cell_type": "code",
   "execution_count": 30,
   "id": "1d1ab9f6",
   "metadata": {},
   "outputs": [
    {
     "data": {
      "image/png": "[encoded data removed]",
      "text/plain": [
       "<Figure size 432x288 with 1 Axes>"
      ]
     },
     "metadata": {
      "needs_background": "light"
     },
     "output_type": "display_data"
    }
   ],
   "source": [
    "# scatter plot of income and productivity\n",
    "salary = employees['Salary']\n",
    "productivity = employees['Productivity']\n",
    "\n",
    "plt.scatter(salary, productivity, alpha=0.5)\n",
    "plt.xlabel('Amount ($)')\n",
    "plt.ylabel('Productivity')\n",
    "plt.title('Does productivity depend on salary?')\n",
    "plt.show()\n",
    "\n",
    "# It's not readily apparent that salary and productivity are dependent in any way."
   ]
  },
  {
   "cell_type": "code",
   "execution_count": 31,
   "id": "f2c89a32",
   "metadata": {},
   "outputs": [
    {
     "data": {
      "image/png": "[encoded data removed]",
      "text/plain": [
       "<Figure size 432x288 with 1 Axes>"
      ]
     },
     "metadata": {
      "needs_background": "light"
     },
     "output_type": "display_data"
    }
   ],
   "source": [
    "plt.scatter(salary, productivity, alpha=0.5)\n",
    "plt.xlabel('Amount ($)')\n",
    "plt.ylabel('Productivity')\n",
    "plt.title('Does productivity depend on salary?')\n",
    "\n",
    "z = np.polyfit(salary, productivity, 1)\n",
    "p = np.poly1d(z)\n",
    "plt.plot(salary,p(salary),\"r--\")\n",
    "\n",
    "plt.show()"
   ]
  },
  {
   "cell_type": "code",
   "execution_count": 33,
   "id": "640b8075",
   "metadata": {},
   "outputs": [
    {
     "data": {
      "image/png": "[encoded data removed]",
      "text/plain": [
       "<Figure size 432x288 with 1 Axes>"
      ]
     },
     "metadata": {
      "needs_background": "light"
     },
     "output_type": "display_data"
    }
   ],
   "source": [
    "# and just because\n",
    "\n",
    "plt.scatter(commute_times, productivity, alpha=0.5)\n",
    "plt.xlabel('Commute Time (in minutes)')\n",
    "plt.ylabel('Productivity')\n",
    "plt.title('Does productivity depend on commute time?')\n",
    "plt.show()\n",
    "\n",
    "# Again, no."
   ]
  }
 ],
 "metadata": {
  "kernelspec": {
   "display_name": "Python 3 (ipykernel)",
   "language": "python",
   "name": "python3"
  },
  "language_info": {
   "codemirror_mode": {
    "name": "ipython",
    "version": 3
   },
   "file_extension": ".py",
   "mimetype": "text/x-python",
   "name": "python",
   "nbconvert_exporter": "python",
   "pygments_lexer": "ipython3",
   "version": "3.9.7"
  }
 },
 "nbformat": 4,
 "nbformat_minor": 5
}
